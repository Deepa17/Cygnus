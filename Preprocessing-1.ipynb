{
 "cells": [
  {
   "cell_type": "code",
   "execution_count": 1,
   "metadata": {},
   "outputs": [],
   "source": [
    "#importing the required packages\n",
    "import pandas as pd\n",
    "import numpy as np\n",
    "import matplotlib.pyplot as plt"
   ]
  },
  {
   "cell_type": "code",
   "execution_count": 2,
   "metadata": {},
   "outputs": [],
   "source": [
    "#reading all the input files\n",
    "data1 = pd.read_csv('Dataset/assessments.csv')\n",
    "data2 = pd.read_csv('Dataset/courses.csv')\n",
    "data3 = pd.read_csv('Dataset/studentAssessment.csv')\n",
    "data4 = pd.read_csv('Dataset/studentInfo.csv')\n",
    "data5 = pd.read_csv('Dataset/studentRegistration.csv')\n",
    "data6 = pd.read_csv('Dataset/studentVle.csv')\n",
    "data7 = pd.read_csv('Dataset/vle.csv')"
   ]
  },
  {
   "cell_type": "code",
   "execution_count": 101,
   "metadata": {},
   "outputs": [],
   "source": [
    "#reading the merged file\n",
    "df = pd.read_parquet('merged_paraquet',engine='fastparquet')"
   ]
  },
  {
   "cell_type": "code",
   "execution_count": 39,
   "metadata": {},
   "outputs": [
    {
     "data": {
      "text/plain": [
       "(14615726, 23)"
      ]
     },
     "execution_count": 39,
     "metadata": {},
     "output_type": "execute_result"
    }
   ],
   "source": [
    "df.shape"
   ]
  },
  {
   "cell_type": "code",
   "execution_count": 102,
   "metadata": {},
   "outputs": [
    {
     "name": "stdout",
     "output_type": "stream",
     "text": [
      "<class 'pandas.core.frame.DataFrame'>\n",
      "RangeIndex: 14615726 entries, 0 to 14615725\n",
      "Data columns (total 23 columns):\n",
      " #   Column                Dtype  \n",
      "---  ------                -----  \n",
      " 0   code_module           object \n",
      " 1   code_presentation     object \n",
      " 2   id_student            int64  \n",
      " 3   gender                object \n",
      " 4   region                object \n",
      " 5   highest_education     object \n",
      " 6   imd_band              object \n",
      " 7   age_band              object \n",
      " 8   num_of_prev_attempts  int64  \n",
      " 9   studied_credits       int64  \n",
      " 10  disability            object \n",
      " 11  final_result          object \n",
      " 12  date_registration     float64\n",
      " 13  date_unregistration   float64\n",
      " 14  date                  int64  \n",
      " 15  sum_click             int64  \n",
      " 16  id_assessment         int64  \n",
      " 17  assessment_type       object \n",
      " 18  date_assessment       float64\n",
      " 19  weight                float64\n",
      " 20  date_submitted        int64  \n",
      " 21  is_banked             int64  \n",
      " 22  score                 float64\n",
      "dtypes: float64(5), int64(8), object(10)\n",
      "memory usage: 2.5+ GB\n"
     ]
    }
   ],
   "source": [
    "df.info()"
   ]
  },
  {
   "cell_type": "code",
   "execution_count": 24,
   "metadata": {},
   "outputs": [
    {
     "data": {
      "text/plain": [
       "code_module                    0\n",
       "code_presentation              0\n",
       "gender                         0\n",
       "region                         0\n",
       "highest_education              0\n",
       "imd_band                  838072\n",
       "age_band                       0\n",
       "num_of_prev_attempts           0\n",
       "studied_credits                0\n",
       "disability                     0\n",
       "final_result                   0\n",
       "date_registration            159\n",
       "date_unregistration     14061472\n",
       "date                           0\n",
       "sum_click                      0\n",
       "id_assessment                  0\n",
       "assessment_type                0\n",
       "date_assessment           266242\n",
       "weight                         0\n",
       "date_submitted                 0\n",
       "is_banked                      0\n",
       "score                       7225\n",
       "dtype: int64"
      ]
     },
     "execution_count": 24,
     "metadata": {},
     "output_type": "execute_result"
    }
   ],
   "source": [
    "#looking for null values\n",
    "df.isnull().sum()"
   ]
  },
  {
   "cell_type": "code",
   "execution_count": 103,
   "metadata": {},
   "outputs": [],
   "source": [
    "#filling null values\n",
    "df['imd_band'].fillna(df['imd_band'].mode()[0], inplace=True)\n",
    "df['date_assessment'] = df.groupby(['id_student'])['date_assessment'].ffill()\n",
    "df['score'].fillna(df['score'].mean(),inplace=True)"
   ]
  },
  {
   "cell_type": "code",
   "execution_count": 104,
   "metadata": {},
   "outputs": [],
   "source": [
    "#for registration columns\n",
    "df['date_registration'] = df.groupby(['id_student'])['date_registration'].ffill()\n",
    "df['date_registration'] = df.groupby(['id_student'])['date_registration'].bfill()\n",
    "df = df.dropna(subset=['date_registration'])"
   ]
  },
  {
   "cell_type": "code",
   "execution_count": 105,
   "metadata": {},
   "outputs": [],
   "source": [
    "#df['date_unregistration']\n",
    "df['date_unregistration'].fillna(0,inplace=True)"
   ]
  },
  {
   "cell_type": "code",
   "execution_count": 106,
   "metadata": {},
   "outputs": [
    {
     "data": {
      "text/plain": [
       "code_module             0\n",
       "code_presentation       0\n",
       "id_student              0\n",
       "gender                  0\n",
       "region                  0\n",
       "highest_education       0\n",
       "imd_band                0\n",
       "age_band                0\n",
       "num_of_prev_attempts    0\n",
       "studied_credits         0\n",
       "disability              0\n",
       "final_result            0\n",
       "date_registration       0\n",
       "date_unregistration     0\n",
       "date                    0\n",
       "sum_click               0\n",
       "id_assessment           0\n",
       "assessment_type         0\n",
       "date_assessment         0\n",
       "weight                  0\n",
       "date_submitted          0\n",
       "is_banked               0\n",
       "score                   0\n",
       "dtype: int64"
      ]
     },
     "execution_count": 106,
     "metadata": {},
     "output_type": "execute_result"
    }
   ],
   "source": [
    "#verifying no null values are left\n",
    "df.isnull().sum()"
   ]
  },
  {
   "cell_type": "code",
   "execution_count": 99,
   "metadata": {},
   "outputs": [
    {
     "data": {
      "text/plain": [
       "(14615722, 22)"
      ]
     },
     "execution_count": 99,
     "metadata": {},
     "output_type": "execute_result"
    }
   ],
   "source": [
    "#verifying the number of rows\n",
    "df.shape"
   ]
  },
  {
   "cell_type": "code",
   "execution_count": 109,
   "metadata": {},
   "outputs": [],
   "source": [
    "#dropping student id because it's not needed for building the model\n",
    "df.drop('id_student',\n",
    "  axis='columns', inplace=True)"
   ]
  },
  {
   "cell_type": "code",
   "execution_count": 110,
   "metadata": {},
   "outputs": [],
   "source": [
    "#geeting a list of numeric columns\n",
    "numeric = df.select_dtypes(include=np.number).columns.tolist()"
   ]
  },
  {
   "cell_type": "code",
   "execution_count": 111,
   "metadata": {},
   "outputs": [
    {
     "name": "stdout",
     "output_type": "stream",
     "text": [
      "---- num_of_prev_attempts ----\n",
      "Max 6\n",
      "Min 0\n",
      "---- studied_credits ----\n",
      "Max 630\n",
      "Min 30\n",
      "---- date_registration ----\n",
      "Max 124.0\n",
      "Min -311.0\n",
      "---- date_unregistration ----\n",
      "Max 444.0\n",
      "Min -196.0\n",
      "---- date ----\n",
      "Max 269\n",
      "Min -25\n",
      "---- sum_click ----\n",
      "Max 6988\n",
      "Min 1\n",
      "---- id_assessment ----\n",
      "Max 37443\n",
      "Min 1752\n",
      "---- date_assessment ----\n",
      "Max 261.0\n",
      "Min 12.0\n",
      "---- weight ----\n",
      "Max 100.0\n",
      "Min 0.0\n",
      "---- date_submitted ----\n",
      "Max 608\n",
      "Min -11\n",
      "---- is_banked ----\n",
      "Max 1\n",
      "Min 0\n",
      "---- score ----\n",
      "Max 100.0\n",
      "Min 0.0\n"
     ]
    }
   ],
   "source": [
    "#finding max and min values for each numeric columns\n",
    "for i in numeric:\n",
    "    print(\"----\",i,\"----\")\n",
    "    print(\"Max\",df[i].max())\n",
    "    print(\"Min\",df[i].min())"
   ]
  },
  {
   "cell_type": "code",
   "execution_count": 112,
   "metadata": {},
   "outputs": [
    {
     "data": {
      "text/plain": [
       "['num_of_prev_attempts',\n",
       " 'studied_credits',\n",
       " 'date_registration',\n",
       " 'date_unregistration',\n",
       " 'date',\n",
       " 'sum_click',\n",
       " 'date_assessment',\n",
       " 'weight',\n",
       " 'date_submitted',\n",
       " 'is_banked',\n",
       " 'score']"
      ]
     },
     "execution_count": 112,
     "metadata": {},
     "output_type": "execute_result"
    }
   ],
   "source": [
    "#removind id_assessment because it crosses 16-bit threshold\n",
    "numeric.remove('id_assessment')\n",
    "numeric"
   ]
  },
  {
   "cell_type": "code",
   "execution_count": 113,
   "metadata": {},
   "outputs": [
    {
     "name": "stdout",
     "output_type": "stream",
     "text": [
      "num_of_prev_attempts\n",
      "studied_credits\n",
      "date_registration\n",
      "date_unregistration\n",
      "date\n",
      "sum_click\n",
      "date_assessment\n",
      "weight\n",
      "date_submitted\n",
      "is_banked\n",
      "score\n"
     ]
    }
   ],
   "source": [
    "#converting to 16-bit integer type\n",
    "for i in numeric:\n",
    "    #print(i)\n",
    "    df[i] = df[i].astype('int16')"
   ]
  },
  {
   "cell_type": "code",
   "execution_count": 114,
   "metadata": {},
   "outputs": [],
   "source": [
    "#converting to 32-bit integer\n",
    "df['id_assessment'] = df['id_assessment'].astype('int32')"
   ]
  },
  {
   "cell_type": "code",
   "execution_count": 115,
   "metadata": {},
   "outputs": [
    {
     "data": {
      "text/plain": [
       "['code_module',\n",
       " 'code_presentation',\n",
       " 'gender',\n",
       " 'region',\n",
       " 'highest_education',\n",
       " 'imd_band',\n",
       " 'age_band',\n",
       " 'disability',\n",
       " 'final_result',\n",
       " 'assessment_type']"
      ]
     },
     "execution_count": 115,
     "metadata": {},
     "output_type": "execute_result"
    }
   ],
   "source": [
    "#obtaining all the object datatype columns\n",
    "obj = df.select_dtypes(include=object).columns.tolist()\n",
    "obj"
   ]
  },
  {
   "cell_type": "code",
   "execution_count": 116,
   "metadata": {},
   "outputs": [],
   "source": [
    "#convertiing object to categorical\n",
    "for i in obj:\n",
    "    df[i] = df[i].astype('category')"
   ]
  },
  {
   "cell_type": "code",
   "execution_count": 117,
   "metadata": {},
   "outputs": [
    {
     "name": "stdout",
     "output_type": "stream",
     "text": [
      "<class 'pandas.core.frame.DataFrame'>\n",
      "Int64Index: 14615722 entries, 0 to 14615725\n",
      "Data columns (total 22 columns):\n",
      " #   Column                Dtype   \n",
      "---  ------                -----   \n",
      " 0   code_module           category\n",
      " 1   code_presentation     category\n",
      " 2   gender                category\n",
      " 3   region                category\n",
      " 4   highest_education     category\n",
      " 5   imd_band              category\n",
      " 6   age_band              category\n",
      " 7   num_of_prev_attempts  int16   \n",
      " 8   studied_credits       int16   \n",
      " 9   disability            category\n",
      " 10  final_result          category\n",
      " 11  date_registration     int16   \n",
      " 12  date_unregistration   int16   \n",
      " 13  date                  int16   \n",
      " 14  sum_click             int16   \n",
      " 15  id_assessment         int32   \n",
      " 16  assessment_type       category\n",
      " 17  date_assessment       int16   \n",
      " 18  weight                int16   \n",
      " 19  date_submitted        int16   \n",
      " 20  is_banked             int16   \n",
      " 21  score                 int16   \n",
      "dtypes: category(10), int16(11), int32(1)\n",
      "memory usage: 613.3 MB\n"
     ]
    }
   ],
   "source": [
    "df.info()"
   ]
  },
  {
   "cell_type": "code",
   "execution_count": 64,
   "metadata": {},
   "outputs": [
    {
     "data": {
      "text/html": [
       "<div>\n",
       "<style scoped>\n",
       "    .dataframe tbody tr th:only-of-type {\n",
       "        vertical-align: middle;\n",
       "    }\n",
       "\n",
       "    .dataframe tbody tr th {\n",
       "        vertical-align: top;\n",
       "    }\n",
       "\n",
       "    .dataframe thead th {\n",
       "        text-align: right;\n",
       "    }\n",
       "</style>\n",
       "<table border=\"1\" class=\"dataframe\">\n",
       "  <thead>\n",
       "    <tr style=\"text-align: right;\">\n",
       "      <th></th>\n",
       "      <th>code_module</th>\n",
       "      <th>code_presentation</th>\n",
       "      <th>gender</th>\n",
       "      <th>region</th>\n",
       "      <th>highest_education</th>\n",
       "      <th>imd_band</th>\n",
       "      <th>age_band</th>\n",
       "      <th>num_of_prev_attempts</th>\n",
       "      <th>studied_credits</th>\n",
       "      <th>disability</th>\n",
       "      <th>...</th>\n",
       "      <th>date_unregistration</th>\n",
       "      <th>date</th>\n",
       "      <th>sum_click</th>\n",
       "      <th>id_assessment</th>\n",
       "      <th>assessment_type</th>\n",
       "      <th>date_assessment</th>\n",
       "      <th>weight</th>\n",
       "      <th>date_submitted</th>\n",
       "      <th>is_banked</th>\n",
       "      <th>score</th>\n",
       "    </tr>\n",
       "  </thead>\n",
       "  <tbody>\n",
       "    <tr>\n",
       "      <th>0</th>\n",
       "      <td>AAA</td>\n",
       "      <td>2013J</td>\n",
       "      <td>M</td>\n",
       "      <td>East Anglian Region</td>\n",
       "      <td>HE Qualification</td>\n",
       "      <td>90-100%</td>\n",
       "      <td>55&lt;=</td>\n",
       "      <td>0</td>\n",
       "      <td>240</td>\n",
       "      <td>N</td>\n",
       "      <td>...</td>\n",
       "      <td>0</td>\n",
       "      <td>-5</td>\n",
       "      <td>98</td>\n",
       "      <td>1752</td>\n",
       "      <td>TMA</td>\n",
       "      <td>19</td>\n",
       "      <td>10</td>\n",
       "      <td>18</td>\n",
       "      <td>0</td>\n",
       "      <td>78</td>\n",
       "    </tr>\n",
       "    <tr>\n",
       "      <th>1</th>\n",
       "      <td>AAA</td>\n",
       "      <td>2013J</td>\n",
       "      <td>M</td>\n",
       "      <td>East Anglian Region</td>\n",
       "      <td>HE Qualification</td>\n",
       "      <td>90-100%</td>\n",
       "      <td>55&lt;=</td>\n",
       "      <td>0</td>\n",
       "      <td>240</td>\n",
       "      <td>N</td>\n",
       "      <td>...</td>\n",
       "      <td>0</td>\n",
       "      <td>-5</td>\n",
       "      <td>98</td>\n",
       "      <td>1753</td>\n",
       "      <td>TMA</td>\n",
       "      <td>54</td>\n",
       "      <td>20</td>\n",
       "      <td>53</td>\n",
       "      <td>0</td>\n",
       "      <td>85</td>\n",
       "    </tr>\n",
       "    <tr>\n",
       "      <th>2</th>\n",
       "      <td>AAA</td>\n",
       "      <td>2013J</td>\n",
       "      <td>M</td>\n",
       "      <td>East Anglian Region</td>\n",
       "      <td>HE Qualification</td>\n",
       "      <td>90-100%</td>\n",
       "      <td>55&lt;=</td>\n",
       "      <td>0</td>\n",
       "      <td>240</td>\n",
       "      <td>N</td>\n",
       "      <td>...</td>\n",
       "      <td>0</td>\n",
       "      <td>-5</td>\n",
       "      <td>98</td>\n",
       "      <td>1754</td>\n",
       "      <td>TMA</td>\n",
       "      <td>117</td>\n",
       "      <td>20</td>\n",
       "      <td>115</td>\n",
       "      <td>0</td>\n",
       "      <td>80</td>\n",
       "    </tr>\n",
       "    <tr>\n",
       "      <th>3</th>\n",
       "      <td>AAA</td>\n",
       "      <td>2013J</td>\n",
       "      <td>M</td>\n",
       "      <td>East Anglian Region</td>\n",
       "      <td>HE Qualification</td>\n",
       "      <td>90-100%</td>\n",
       "      <td>55&lt;=</td>\n",
       "      <td>0</td>\n",
       "      <td>240</td>\n",
       "      <td>N</td>\n",
       "      <td>...</td>\n",
       "      <td>0</td>\n",
       "      <td>-5</td>\n",
       "      <td>98</td>\n",
       "      <td>1755</td>\n",
       "      <td>TMA</td>\n",
       "      <td>166</td>\n",
       "      <td>20</td>\n",
       "      <td>164</td>\n",
       "      <td>0</td>\n",
       "      <td>85</td>\n",
       "    </tr>\n",
       "    <tr>\n",
       "      <th>4</th>\n",
       "      <td>AAA</td>\n",
       "      <td>2013J</td>\n",
       "      <td>M</td>\n",
       "      <td>East Anglian Region</td>\n",
       "      <td>HE Qualification</td>\n",
       "      <td>90-100%</td>\n",
       "      <td>55&lt;=</td>\n",
       "      <td>0</td>\n",
       "      <td>240</td>\n",
       "      <td>N</td>\n",
       "      <td>...</td>\n",
       "      <td>0</td>\n",
       "      <td>-5</td>\n",
       "      <td>98</td>\n",
       "      <td>1756</td>\n",
       "      <td>TMA</td>\n",
       "      <td>215</td>\n",
       "      <td>30</td>\n",
       "      <td>212</td>\n",
       "      <td>0</td>\n",
       "      <td>82</td>\n",
       "    </tr>\n",
       "  </tbody>\n",
       "</table>\n",
       "<p>5 rows × 22 columns</p>\n",
       "</div>"
      ],
      "text/plain": [
       "  code_module code_presentation gender               region highest_education  \\\n",
       "0         AAA             2013J      M  East Anglian Region  HE Qualification   \n",
       "1         AAA             2013J      M  East Anglian Region  HE Qualification   \n",
       "2         AAA             2013J      M  East Anglian Region  HE Qualification   \n",
       "3         AAA             2013J      M  East Anglian Region  HE Qualification   \n",
       "4         AAA             2013J      M  East Anglian Region  HE Qualification   \n",
       "\n",
       "  imd_band age_band  num_of_prev_attempts  studied_credits disability  ...  \\\n",
       "0  90-100%     55<=                     0              240          N  ...   \n",
       "1  90-100%     55<=                     0              240          N  ...   \n",
       "2  90-100%     55<=                     0              240          N  ...   \n",
       "3  90-100%     55<=                     0              240          N  ...   \n",
       "4  90-100%     55<=                     0              240          N  ...   \n",
       "\n",
       "  date_unregistration  date  sum_click  id_assessment  assessment_type  \\\n",
       "0                   0    -5         98           1752              TMA   \n",
       "1                   0    -5         98           1753              TMA   \n",
       "2                   0    -5         98           1754              TMA   \n",
       "3                   0    -5         98           1755              TMA   \n",
       "4                   0    -5         98           1756              TMA   \n",
       "\n",
       "   date_assessment weight  date_submitted  is_banked  score  \n",
       "0               19     10              18          0     78  \n",
       "1               54     20              53          0     85  \n",
       "2              117     20             115          0     80  \n",
       "3              166     20             164          0     85  \n",
       "4              215     30             212          0     82  \n",
       "\n",
       "[5 rows x 22 columns]"
      ]
     },
     "execution_count": 64,
     "metadata": {},
     "output_type": "execute_result"
    }
   ],
   "source": [
    "df.head()"
   ]
  },
  {
   "cell_type": "code",
   "execution_count": 119,
   "metadata": {},
   "outputs": [
    {
     "data": {
      "image/png": "[encoded data removed]",
      "text/plain": [
       "<Figure size 432x288 with 1 Axes>"
      ]
     },
     "metadata": {
      "needs_background": "light"
     },
     "output_type": "display_data"
    },
    {
     "data": {
      "image/png": "[encoded data removed]",
      "text/plain": [
       "<Figure size 432x288 with 1 Axes>"
      ]
     },
     "metadata": {
      "needs_background": "light"
     },
     "output_type": "display_data"
    },
    {
     "data": {
      "image/png": "[encoded data removed]",
      "text/plain": [
       "<Figure size 432x288 with 1 Axes>"
      ]
     },
     "metadata": {
      "needs_background": "light"
     },
     "output_type": "display_data"
    },
    {
     "data": {
      "image/png": "[encoded data removed]",
      "text/plain": [
       "<Figure size 432x288 with 1 Axes>"
      ]
     },
     "metadata": {
      "needs_background": "light"
     },
     "output_type": "display_data"
    },
    {
     "data": {
      "image/png": "[encoded data removed]",
      "text/plain": [
       "<Figure size 432x288 with 1 Axes>"
      ]
     },
     "metadata": {
      "needs_background": "light"
     },
     "output_type": "display_data"
    },
    {
     "data": {
      "image/png": "[encoded data removed]",
      "text/plain": [
       "<Figure size 432x288 with 1 Axes>"
      ]
     },
     "metadata": {
      "needs_background": "light"
     },
     "output_type": "display_data"
    },
    {
     "data": {
      "image/png": "[encoded data removed]",
      "text/plain": [
       "<Figure size 432x288 with 1 Axes>"
      ]
     },
     "metadata": {
      "needs_background": "light"
     },
     "output_type": "display_data"
    },
    {
     "data": {
      "image/png": "[encoded data removed]",
      "text/plain": [
       "<Figure size 432x288 with 1 Axes>"
      ]
     },
     "metadata": {
      "needs_background": "light"
     },
     "output_type": "display_data"
    },
    {
     "data": {
      "image/png": "[encoded data removed]",
      "text/plain": [
       "<Figure size 432x288 with 1 Axes>"
      ]
     },
     "metadata": {
      "needs_background": "light"
     },
     "output_type": "display_data"
    },
    {
     "data": {
      "image/png": "[encoded data removed]",
      "text/plain": [
       "<Figure size 432x288 with 1 Axes>"
      ]
     },
     "metadata": {
      "needs_background": "light"
     },
     "output_type": "display_data"
    },
    {
     "data": {
      "image/png": "[encoded data removed]",
      "text/plain": [
       "<Figure size 432x288 with 1 Axes>"
      ]
     },
     "metadata": {
      "needs_background": "light"
     },
     "output_type": "display_data"
    }
   ],
   "source": [
    "#boxplots of all the numeric columns\n",
    "for column in numeric:\n",
    "    plt.figure()\n",
    "    df.boxplot([column])"
   ]
  },
  {
   "cell_type": "code",
   "execution_count": 120,
   "metadata": {},
   "outputs": [],
   "source": [
    "#another dataframe to load all the values to remove a few rows beased on date_unregistered column\n",
    "df_unregister = pd.DataFrame()\n",
    "cols = ['date_unregistration','code_module','code_presentation']\n",
    "for i in cols:\n",
    "    df_unregister[i]=df[i]"
   ]
  },
  {
   "cell_type": "code",
   "execution_count": 124,
   "metadata": {},
   "outputs": [],
   "source": [
    "#merging code_info and df_unregister\n",
    "df_unregister = pd.merge(df_unregister,data2, on=['code_module','code_presentation'],how='inner')"
   ]
  },
  {
   "cell_type": "code",
   "execution_count": 125,
   "metadata": {},
   "outputs": [
    {
     "data": {
      "text/html": [
       "<div>\n",
       "<style scoped>\n",
       "    .dataframe tbody tr th:only-of-type {\n",
       "        vertical-align: middle;\n",
       "    }\n",
       "\n",
       "    .dataframe tbody tr th {\n",
       "        vertical-align: top;\n",
       "    }\n",
       "\n",
       "    .dataframe thead th {\n",
       "        text-align: right;\n",
       "    }\n",
       "</style>\n",
       "<table border=\"1\" class=\"dataframe\">\n",
       "  <thead>\n",
       "    <tr style=\"text-align: right;\">\n",
       "      <th></th>\n",
       "      <th>date_unregistration</th>\n",
       "      <th>code_module</th>\n",
       "      <th>code_presentation</th>\n",
       "      <th>module_presentation_length</th>\n",
       "    </tr>\n",
       "  </thead>\n",
       "  <tbody>\n",
       "    <tr>\n",
       "      <th>0</th>\n",
       "      <td>0</td>\n",
       "      <td>AAA</td>\n",
       "      <td>2013J</td>\n",
       "      <td>268</td>\n",
       "    </tr>\n",
       "    <tr>\n",
       "      <th>1</th>\n",
       "      <td>0</td>\n",
       "      <td>AAA</td>\n",
       "      <td>2013J</td>\n",
       "      <td>268</td>\n",
       "    </tr>\n",
       "    <tr>\n",
       "      <th>2</th>\n",
       "      <td>0</td>\n",
       "      <td>AAA</td>\n",
       "      <td>2013J</td>\n",
       "      <td>268</td>\n",
       "    </tr>\n",
       "    <tr>\n",
       "      <th>3</th>\n",
       "      <td>0</td>\n",
       "      <td>AAA</td>\n",
       "      <td>2013J</td>\n",
       "      <td>268</td>\n",
       "    </tr>\n",
       "    <tr>\n",
       "      <th>4</th>\n",
       "      <td>0</td>\n",
       "      <td>AAA</td>\n",
       "      <td>2013J</td>\n",
       "      <td>268</td>\n",
       "    </tr>\n",
       "  </tbody>\n",
       "</table>\n",
       "</div>"
      ],
      "text/plain": [
       "   date_unregistration code_module code_presentation  \\\n",
       "0                    0         AAA             2013J   \n",
       "1                    0         AAA             2013J   \n",
       "2                    0         AAA             2013J   \n",
       "3                    0         AAA             2013J   \n",
       "4                    0         AAA             2013J   \n",
       "\n",
       "   module_presentation_length  \n",
       "0                         268  \n",
       "1                         268  \n",
       "2                         268  \n",
       "3                         268  \n",
       "4                         268  "
      ]
     },
     "execution_count": 125,
     "metadata": {},
     "output_type": "execute_result"
    }
   ],
   "source": [
    "df_unregister.head()"
   ]
  },
  {
   "cell_type": "code",
   "execution_count": 126,
   "metadata": {},
   "outputs": [
    {
     "data": {
      "text/plain": [
       "[10400713,\n",
       " 10400714,\n",
       " 10400715,\n",
       " 10400716,\n",
       " 10400717,\n",
       " 10400718,\n",
       " 10400719,\n",
       " 10400720,\n",
       " 10400721,\n",
       " 10400722,\n",
       " 10400723,\n",
       " 10400724,\n",
       " 10400725,\n",
       " 10400726,\n",
       " 10400727,\n",
       " 10400728,\n",
       " 10400729,\n",
       " 10400730,\n",
       " 10400731,\n",
       " 10400732,\n",
       " 10400733,\n",
       " 10400734,\n",
       " 10400735,\n",
       " 10400736,\n",
       " 10400737,\n",
       " 10400738,\n",
       " 10400739,\n",
       " 10400740,\n",
       " 10400741,\n",
       " 10400742,\n",
       " 10400743,\n",
       " 10400744,\n",
       " 10400745,\n",
       " 10400746,\n",
       " 10400747,\n",
       " 10400748,\n",
       " 10400749,\n",
       " 10400750,\n",
       " 10400751,\n",
       " 10400752,\n",
       " 10400753,\n",
       " 10400754,\n",
       " 10400755,\n",
       " 10400756,\n",
       " 10400757,\n",
       " 10400758,\n",
       " 10400759,\n",
       " 10400760,\n",
       " 10400761,\n",
       " 10400762,\n",
       " 10400763,\n",
       " 10400764,\n",
       " 10400765,\n",
       " 10400766,\n",
       " 10400767,\n",
       " 10400768,\n",
       " 10400769,\n",
       " 10400770,\n",
       " 10400771,\n",
       " 10400772,\n",
       " 10400773,\n",
       " 10400774,\n",
       " 10400775,\n",
       " 10400776,\n",
       " 10400777,\n",
       " 10400778,\n",
       " 10400779,\n",
       " 10400780,\n",
       " 10400781,\n",
       " 10400782,\n",
       " 10400783,\n",
       " 10400784,\n",
       " 10400785,\n",
       " 10400786,\n",
       " 10400787,\n",
       " 10400788,\n",
       " 10400789,\n",
       " 10400790,\n",
       " 10400791,\n",
       " 10400792,\n",
       " 10400793,\n",
       " 10400794,\n",
       " 10400795,\n",
       " 10400796,\n",
       " 10400797,\n",
       " 10400798,\n",
       " 10400799,\n",
       " 10400800,\n",
       " 10400801,\n",
       " 10400802,\n",
       " 10400803,\n",
       " 10400804,\n",
       " 10400805,\n",
       " 10400806,\n",
       " 10400807,\n",
       " 10400808,\n",
       " 10400809,\n",
       " 10400810,\n",
       " 10400811,\n",
       " 10400812,\n",
       " 10400813,\n",
       " 10400814,\n",
       " 10400815,\n",
       " 10400816,\n",
       " 10400817,\n",
       " 10400818,\n",
       " 10400819,\n",
       " 10400820,\n",
       " 10400821,\n",
       " 10400822,\n",
       " 10400823,\n",
       " 10400824,\n",
       " 10400825,\n",
       " 10400826,\n",
       " 10400827,\n",
       " 10400828,\n",
       " 10400829,\n",
       " 10400830,\n",
       " 10400831,\n",
       " 10400832,\n",
       " 10400833,\n",
       " 10400834,\n",
       " 10400835,\n",
       " 10400836,\n",
       " 10400837,\n",
       " 10400838,\n",
       " 10400839,\n",
       " 10400840,\n",
       " 10400841,\n",
       " 10400842,\n",
       " 10400843,\n",
       " 10400844,\n",
       " 10400845,\n",
       " 10400846,\n",
       " 10400847,\n",
       " 10400848,\n",
       " 10400849,\n",
       " 10400850,\n",
       " 10400851,\n",
       " 10400852,\n",
       " 10400853,\n",
       " 10400854,\n",
       " 10400855,\n",
       " 10400856,\n",
       " 10400857,\n",
       " 10400858,\n",
       " 10400859,\n",
       " 10400860,\n",
       " 10400861,\n",
       " 10400862,\n",
       " 10400863,\n",
       " 10400864,\n",
       " 10400865,\n",
       " 10400866,\n",
       " 10400867,\n",
       " 10400868,\n",
       " 10400869,\n",
       " 10400870,\n",
       " 10400871,\n",
       " 10400872,\n",
       " 10400873,\n",
       " 10400874,\n",
       " 10400875,\n",
       " 10400876,\n",
       " 10400877,\n",
       " 10400878,\n",
       " 10400879,\n",
       " 10400880,\n",
       " 10400881,\n",
       " 10400882,\n",
       " 10400883,\n",
       " 10400884,\n",
       " 10400885,\n",
       " 10400886,\n",
       " 10400887,\n",
       " 10400888,\n",
       " 10400889,\n",
       " 10400890,\n",
       " 10400891,\n",
       " 10400892,\n",
       " 10400893,\n",
       " 10400894,\n",
       " 10400895,\n",
       " 10400896,\n",
       " 10400897,\n",
       " 10400898,\n",
       " 10400899,\n",
       " 10400900,\n",
       " 10400901,\n",
       " 10400902,\n",
       " 10400903,\n",
       " 10400904,\n",
       " 10400905,\n",
       " 10400906,\n",
       " 10400907,\n",
       " 10400908,\n",
       " 10400909,\n",
       " 10400910,\n",
       " 10400911,\n",
       " 10400912,\n",
       " 10400913,\n",
       " 10400914,\n",
       " 10400915,\n",
       " 10400916,\n",
       " 10400917,\n",
       " 10400918,\n",
       " 10400919,\n",
       " 10400920,\n",
       " 10400921,\n",
       " 10400922]"
      ]
     },
     "execution_count": 126,
     "metadata": {},
     "output_type": "execute_result"
    }
   ],
   "source": [
    "#obtaing the indices of the rows with date_unreg>=module_presentation length\n",
    "ind = df_unregister[df_unregister['date_unregistration']>=df_unregister['module_presentation_length']].index.tolist()\n",
    "#ind"
   ]
  },
  {
   "cell_type": "code",
   "execution_count": 127,
   "metadata": {},
   "outputs": [],
   "source": [
    "#dropping all the obtained rows\n",
    "df.drop(ind, axis='rows',inplace = True)"
   ]
  },
  {
   "cell_type": "code",
   "execution_count": 128,
   "metadata": {},
   "outputs": [
    {
     "data": {
      "text/plain": [
       "(14615512, 22)"
      ]
     },
     "execution_count": 128,
     "metadata": {},
     "output_type": "execute_result"
    }
   ],
   "source": [
    "df.shape"
   ]
  },
  {
   "cell_type": "code",
   "execution_count": 129,
   "metadata": {},
   "outputs": [],
   "source": [
    "#converting the obtained data to an intermediate file\n",
    "df.to_parquet('intermediate_parquet',index=False)"
   ]
  }
 ],
 "metadata": {
  "kernelspec": {
   "display_name": "Python 3",
   "language": "python",
   "name": "python3"
  },
  "language_info": {
   "codemirror_mode": {
    "name": "ipython",
    "version": 3
   },
   "file_extension": ".py",
   "mimetype": "text/x-python",
   "name": "python",
   "nbconvert_exporter": "python",
   "pygments_lexer": "ipython3",
   "version": "3.8.3"
  }
 },
 "nbformat": 4,
 "nbformat_minor": 4
}
